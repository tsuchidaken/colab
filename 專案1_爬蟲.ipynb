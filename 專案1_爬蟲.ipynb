{
  "nbformat": 4,
  "nbformat_minor": 0,
  "metadata": {
    "colab": {
      "provenance": [],
      "authorship_tag": "ABX9TyOfK5dMb6mnUcvHJPctvz/R",
      "include_colab_link": true
    },
    "kernelspec": {
      "name": "python3",
      "display_name": "Python 3"
    },
    "language_info": {
      "name": "python"
    }
  },
  "cells": [
    {
      "cell_type": "markdown",
      "metadata": {
        "id": "view-in-github",
        "colab_type": "text"
      },
      "source": [
        "<a href=\"https://colab.research.google.com/github/tsuchidaken/colab/blob/main/%E5%B0%88%E6%A1%881_%E7%88%AC%E8%9F%B2.ipynb\" target=\"_parent\"><img src=\"https://colab.research.google.com/assets/colab-badge.svg\" alt=\"Open In Colab\"/></a>"
      ]
    },
    {
      "cell_type": "code",
      "execution_count": 29,
      "metadata": {
        "id": "ukomP8VZJjVr",
        "colab": {
          "base_uri": "https://localhost:8080/"
        },
        "outputId": "4d8d68ce-a14b-4410-da9f-e7fcf1e0ddf9"
      },
      "outputs": [
        {
          "output_type": "stream",
          "name": "stdout",
          "text": [
            "各縣市藥局數量:\n",
            " {'臺北市': 340, '高雄市': 424, '臺中市': 436, '臺南市': 280, '基隆市': 57, '新竹市': 39, '嘉義市': 67, '新北市': 507, '桃園市': 271, '新竹縣': 48, '宜蘭縣': 76, '苗栗縣': 57, '彰化縣': 181, '南投縣': 67, '雲林縣': 131, '嘉義縣': 84, '屏東縣': 140, '澎湖縣': 11, '花蓮縣': 47, '臺東縣': 23, '金門縣': 6, '連江縣': 1}\n",
            "各縣市口罩數量由大到小排列\n",
            " {'新北市': 1226320, '臺中市': 1046010, '高雄市': 853920, '臺南市': 746810, '臺北市': 667910, '桃園市': 622420, '彰化縣': 442070, '雲林縣': 368290, '屏東縣': 354070, '嘉義縣': 225550, '苗栗縣': 217590, '嘉義市': 205660, '宜蘭縣': 200570, '南投縣': 182870, '基隆市': 164480, '花蓮縣': 115170, '新竹縣': 109800, '新竹市': 89210, '臺東縣': 54320, '金門縣': 30490, '澎湖縣': 29110, '連江縣': 11400}\n"
          ]
        }
      ],
      "source": [
        "import requests\n",
        "import json\n",
        "\n",
        "# 抓取API資料下來\n",
        "# 利用 requests 對 API 來源發送一個請求\n",
        "# url = '{ API 網址}'\n",
        "url = 'https://raw.githubusercontent.com/kiang/pharmacies/master/json/points.json'\n",
        "response = requests.get(url)\n",
        "\n",
        "# 將請求回應的內容存成一個字串格式\n",
        "d = response.text\n",
        "\n",
        "# 將長得像 json 格式的字串解析成字典或列表\n",
        "data = json.loads(d)\n",
        "\n",
        "# print(data)\n",
        "\n",
        "################################################\n",
        "# 各縣市藥局數量\n",
        "med_count = {}\n",
        "\n",
        "# 填入欄位名稱\n",
        "for d in data['features']:\n",
        "    conunty = d['properties']['address'][:3] #不能使用county欄位，因為資料不整齊有空白資料\n",
        "    if conunty not in med_count:\n",
        "        med_count[conunty] = 0\n",
        "\n",
        "    med_count[conunty] += 1\n",
        "\n",
        "print(\"各縣市藥局數量:\\n\", med_count)\n",
        "# {'台北市': 123, '新北市': 456 ...}\n",
        "#############################################\n",
        "# 各縣市口罩數量由大到小排列\n",
        "mask_count = {}\n",
        "\n",
        "# 填入欄位名稱\n",
        "for d in data['features']:\n",
        "    conunty = d['properties']['address'][:3] #  不能使用county欄位，因為資料不整齊有空白資料\n",
        "    mask_adult = d['properties']['mask_adult']  # 大人口罩\n",
        "    mask_child = d['properties']['mask_child']  # 小孩口罩\n",
        "    mask_all =  mask_adult + mask_child # 口罩總量\n",
        "    if conunty not in mask_count:\n",
        "        mask_count[conunty] = 0\n",
        "\n",
        "    mask_count[conunty] = mask_count[conunty] + mask_all\n",
        "\n",
        "# 將結果從大到小排列\n",
        "mask_count = dict(sorted(mask_count.items(), key=lambda item: item[1], reverse=True))\n",
        "\n",
        "print('各縣市口罩數量由大到小排列\\n', mask_count)\n",
        "# {'台北市': 12345, '新北市': 45678 ...}\n"
      ]
    },
    {
      "cell_type": "code",
      "source": [],
      "metadata": {
        "id": "onGtWe2atbfL"
      },
      "execution_count": null,
      "outputs": []
    }
  ]
}