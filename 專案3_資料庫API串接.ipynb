{
  "nbformat": 4,
  "nbformat_minor": 0,
  "metadata": {
    "colab": {
      "provenance": [],
      "authorship_tag": "ABX9TyOsNJW8fdCIqaCEn9IeGGDN",
      "include_colab_link": true
    },
    "kernelspec": {
      "name": "python3",
      "display_name": "Python 3"
    },
    "language_info": {
      "name": "python"
    }
  },
  "cells": [
    {
      "cell_type": "markdown",
      "metadata": {
        "id": "view-in-github",
        "colab_type": "text"
      },
      "source": [
        "<a href=\"https://colab.research.google.com/github/tsuchidaken/colab/blob/main/%E5%B0%88%E6%A1%883_%E8%B3%87%E6%96%99%E5%BA%ABAPI%E4%B8%B2%E6%8E%A5.ipynb\" target=\"_parent\"><img src=\"https://colab.research.google.com/assets/colab-badge.svg\" alt=\"Open In Colab\"/></a>"
      ]
    },
    {
      "cell_type": "markdown",
      "source": [
        "# 各地區的藥局數量"
      ],
      "metadata": {
        "id": "rQL5XmDLfEmr"
      }
    },
    {
      "cell_type": "markdown",
      "source": [
        "* 將昨天計算的「各地區的藥局數量」存入資料庫的 `pharmacies` 表格，欄位包含「地區」、「數量」、「新增時間」，在同一個 Repo、Colab 編輯完成後再 Commit 紀錄成一個版本："
      ],
      "metadata": {
        "id": "xFQ15YSX67kL"
      }
    },
    {
      "cell_type": "code",
      "source": [
        "import sqlite3\n",
        "import datetime\n",
        "\n",
        "import requests\n",
        "import json\n",
        "\n",
        "conn = sqlite3.connect('example.db')\n",
        "c = conn.cursor()\n",
        "\n",
        "# 新增且清空資料表\n",
        "c.execute('''CREATE TABLE IF NOT EXISTS pharmacies\n",
        "             (city text, counts text, createdAt datetime)''')\n",
        "c.execute('''DELETE FROM pharmacies''')\n",
        "conn.commit()"
      ],
      "metadata": {
        "id": "JE64XkoBOMrF"
      },
      "execution_count": 8,
      "outputs": []
    },
    {
      "cell_type": "code",
      "execution_count": 9,
      "metadata": {
        "colab": {
          "base_uri": "https://localhost:8080/"
        },
        "id": "YM5QCtmd6WxL",
        "outputId": "ccdcda60-27bf-48f4-aad1-f4f427ec51e8"
      },
      "outputs": [
        {
          "output_type": "stream",
          "name": "stdout",
          "text": [
            "INSERT INTO stocks VALUES ('臺北市', 340, '2024-04-11 03:35:24.823780')\n",
            "INSERT INTO stocks VALUES ('高雄市', 424, '2024-04-11 03:35:24.834743')\n",
            "INSERT INTO stocks VALUES ('臺中市', 436, '2024-04-11 03:35:24.844545')\n",
            "INSERT INTO stocks VALUES ('臺南市', 280, '2024-04-11 03:35:24.854783')\n",
            "INSERT INTO stocks VALUES ('基隆市', 57, '2024-04-11 03:35:24.863911')\n",
            "INSERT INTO stocks VALUES ('新竹市', 39, '2024-04-11 03:35:24.872992')\n",
            "INSERT INTO stocks VALUES ('嘉義市', 67, '2024-04-11 03:35:24.882532')\n",
            "INSERT INTO stocks VALUES ('新北市', 507, '2024-04-11 03:35:24.891572')\n",
            "INSERT INTO stocks VALUES ('桃園市', 271, '2024-04-11 03:35:24.899985')\n",
            "INSERT INTO stocks VALUES ('新竹縣', 48, '2024-04-11 03:35:24.908761')\n",
            "INSERT INTO stocks VALUES ('宜蘭縣', 76, '2024-04-11 03:35:24.917922')\n",
            "INSERT INTO stocks VALUES ('苗栗縣', 57, '2024-04-11 03:35:24.926548')\n",
            "INSERT INTO stocks VALUES ('彰化縣', 181, '2024-04-11 03:35:24.937671')\n",
            "INSERT INTO stocks VALUES ('南投縣', 67, '2024-04-11 03:35:24.949403')\n",
            "INSERT INTO stocks VALUES ('雲林縣', 131, '2024-04-11 03:35:24.958019')\n",
            "INSERT INTO stocks VALUES ('嘉義縣', 84, '2024-04-11 03:35:24.967295')\n",
            "INSERT INTO stocks VALUES ('屏東縣', 140, '2024-04-11 03:35:24.976698')\n",
            "INSERT INTO stocks VALUES ('澎湖縣', 11, '2024-04-11 03:35:24.986013')\n",
            "INSERT INTO stocks VALUES ('花蓮縣', 47, '2024-04-11 03:35:24.995309')\n",
            "INSERT INTO stocks VALUES ('臺東縣', 23, '2024-04-11 03:35:25.004805')\n",
            "INSERT INTO stocks VALUES ('金門縣', 6, '2024-04-11 03:35:25.014447')\n",
            "INSERT INTO stocks VALUES ('連江縣', 1, '2024-04-11 03:35:25.023515')\n",
            "[('臺北市', '340', '2024-04-11 03:35:24.823780'), ('高雄市', '424', '2024-04-11 03:35:24.834743'), ('臺中市', '436', '2024-04-11 03:35:24.844545'), ('臺南市', '280', '2024-04-11 03:35:24.854783'), ('基隆市', '57', '2024-04-11 03:35:24.863911'), ('新竹市', '39', '2024-04-11 03:35:24.872992'), ('嘉義市', '67', '2024-04-11 03:35:24.882532'), ('新北市', '507', '2024-04-11 03:35:24.891572'), ('桃園市', '271', '2024-04-11 03:35:24.899985'), ('新竹縣', '48', '2024-04-11 03:35:24.908761'), ('宜蘭縣', '76', '2024-04-11 03:35:24.917922'), ('苗栗縣', '57', '2024-04-11 03:35:24.926548'), ('彰化縣', '181', '2024-04-11 03:35:24.937671'), ('南投縣', '67', '2024-04-11 03:35:24.949403'), ('雲林縣', '131', '2024-04-11 03:35:24.958019'), ('嘉義縣', '84', '2024-04-11 03:35:24.967295'), ('屏東縣', '140', '2024-04-11 03:35:24.976698'), ('澎湖縣', '11', '2024-04-11 03:35:24.986013'), ('花蓮縣', '47', '2024-04-11 03:35:24.995309'), ('臺東縣', '23', '2024-04-11 03:35:25.004805'), ('金門縣', '6', '2024-04-11 03:35:25.014447'), ('連江縣', '1', '2024-04-11 03:35:25.023515')]\n"
          ]
        }
      ],
      "source": [
        "# 新增資料(蒐集資料)\n",
        "# 抓取API資料下來\n",
        "# 利用 requests 對 API 來源發送一個請求\n",
        "url = 'https://raw.githubusercontent.com/kiang/pharmacies/master/json/points.json'\n",
        "response = requests.get(url)\n",
        "# 將請求回應的內容存成一個字串格式\n",
        "d = response.text\n",
        "# 將長得像 json 格式的字串解析成字典或列表\n",
        "data = json.loads(d)\n",
        "# 各縣市藥局數量\n",
        "med_count = {}\n",
        "\n",
        "for d in data['features']:\n",
        "    conunty = d['properties']['address'][:3] #不能使用county欄位，因為資料不整齊有空白資料\n",
        "    if conunty not in med_count:\n",
        "        med_count[conunty] = 0\n",
        "\n",
        "    med_count[conunty] += 1\n",
        "\n",
        "for med in med_count.items():\n",
        "    city = med[0]\n",
        "    counts = med[1]\n",
        "    t = datetime.datetime.now()\n",
        "    print(f\"INSERT INTO stocks VALUES ('{city}', {counts}, '{t}')\")\n",
        "    c.execute(f\"INSERT INTO pharmacies VALUES ('{city}', {counts}, '{t}')\")\n",
        "    conn.commit()\n",
        "\n",
        "# 查詢資料\n",
        "c.execute(\"SELECT * FROM pharmacies\")\n",
        "print(c.fetchall())\n",
        "\n",
        "conn.commit()\n",
        "conn.close()"
      ]
    },
    {
      "cell_type": "markdown",
      "source": [
        "# 各地區的剩餘口罩"
      ],
      "metadata": {
        "id": "HXABfAc3e0gd"
      }
    },
    {
      "cell_type": "markdown",
      "source": [
        "* 將昨天計算的「各地區的剩餘口罩」存入資料庫的 `masks` 表格，欄位包含「地區」、「剩餘口罩數量」、「新增時間」，在同一個 Repo、Colab 編輯完成後再 Commit 紀錄成一個版本："
      ],
      "metadata": {
        "id": "BLGwROpbOtew"
      }
    },
    {
      "cell_type": "code",
      "source": [
        "import sqlite3\n",
        "import datetime\n",
        "\n",
        "import requests\n",
        "import json\n",
        "\n",
        "conn = sqlite3.connect('example.db')\n",
        "c = conn.cursor()\n",
        "\n",
        "# 新增且清空資料表\n",
        "c.execute('''CREATE TABLE IF NOT EXISTS masks\n",
        "             (city text, counts text, createdAt datetime)''')\n",
        "c.execute('''DELETE FROM masks''')\n",
        "conn.commit()"
      ],
      "metadata": {
        "id": "_w4jg-IhO2Cx"
      },
      "execution_count": 17,
      "outputs": []
    },
    {
      "cell_type": "code",
      "source": [
        "# 新增資料\n",
        "mask_count = {}\n",
        "\n",
        "# 填入欄位名稱\n",
        "for d in data['features']:\n",
        "    conunty = d['properties']['address'][:3] #  不能使用county欄位，因為資料不整齊有空白資料\n",
        "    mask_adult = d['properties']['mask_adult']  # 大人口罩\n",
        "    mask_child = d['properties']['mask_child']  # 小孩口罩\n",
        "    mask_all =  mask_adult + mask_child # 口罩總量\n",
        "    if conunty not in mask_count:\n",
        "        mask_count[conunty] = 0\n",
        "\n",
        "    mask_count[conunty] = mask_count[conunty] + mask_all\n",
        "\n",
        "# 將結果從大到小排列\n",
        "mask_count = dict(sorted(mask_count.items(), key=lambda item: item[1], reverse=True))\n",
        "\n",
        "for mask in mask_count.items():\n",
        "    city = mask[0]\n",
        "    counts = mask[1]\n",
        "    t = datetime.datetime.now()\n",
        "    print(f\"INSERT INTO masks VALUES ('{city}', {counts}, '{t}')\")\n",
        "    c.execute(f\"INSERT INTO masks VALUES ('{city}', {counts}, '{t}')\")\n",
        "    conn.commit()\n",
        "\n",
        "# 查詢資料\n",
        "c.execute(\"SELECT * FROM masks\")\n",
        "print(c.fetchall())\n",
        "\n",
        "conn.commit()\n",
        "conn.close()"
      ],
      "metadata": {
        "colab": {
          "base_uri": "https://localhost:8080/"
        },
        "id": "mTrw4bwQPEuM",
        "outputId": "ecc7aedf-eb22-4bfc-8564-214a1d593778"
      },
      "execution_count": 18,
      "outputs": [
        {
          "output_type": "stream",
          "name": "stdout",
          "text": [
            "INSERT INTO masks VALUES ('新北市', 1226320, '2024-04-11 04:45:52.777168')\n",
            "INSERT INTO masks VALUES ('臺中市', 1046010, '2024-04-11 04:45:52.791333')\n",
            "INSERT INTO masks VALUES ('高雄市', 853920, '2024-04-11 04:45:52.803483')\n",
            "INSERT INTO masks VALUES ('臺南市', 746810, '2024-04-11 04:45:52.815311')\n",
            "INSERT INTO masks VALUES ('臺北市', 667910, '2024-04-11 04:45:52.827394')\n",
            "INSERT INTO masks VALUES ('桃園市', 622420, '2024-04-11 04:45:52.840373')\n",
            "INSERT INTO masks VALUES ('彰化縣', 442070, '2024-04-11 04:45:52.851407')\n",
            "INSERT INTO masks VALUES ('雲林縣', 368290, '2024-04-11 04:45:52.863600')\n",
            "INSERT INTO masks VALUES ('屏東縣', 354070, '2024-04-11 04:45:52.874265')\n",
            "INSERT INTO masks VALUES ('嘉義縣', 225550, '2024-04-11 04:45:52.885011')\n",
            "INSERT INTO masks VALUES ('苗栗縣', 217590, '2024-04-11 04:45:52.895671')\n",
            "INSERT INTO masks VALUES ('嘉義市', 205660, '2024-04-11 04:45:52.905446')\n",
            "INSERT INTO masks VALUES ('宜蘭縣', 200570, '2024-04-11 04:45:52.915147')\n",
            "INSERT INTO masks VALUES ('南投縣', 182870, '2024-04-11 04:45:52.925427')\n",
            "INSERT INTO masks VALUES ('基隆市', 164480, '2024-04-11 04:45:52.936453')\n",
            "INSERT INTO masks VALUES ('花蓮縣', 115170, '2024-04-11 04:45:52.945972')\n",
            "INSERT INTO masks VALUES ('新竹縣', 109800, '2024-04-11 04:45:52.955206')\n",
            "INSERT INTO masks VALUES ('新竹市', 89210, '2024-04-11 04:45:52.964392')\n",
            "INSERT INTO masks VALUES ('臺東縣', 54320, '2024-04-11 04:45:52.974401')\n",
            "INSERT INTO masks VALUES ('金門縣', 30490, '2024-04-11 04:45:52.985357')\n",
            "INSERT INTO masks VALUES ('澎湖縣', 29110, '2024-04-11 04:45:52.996222')\n",
            "INSERT INTO masks VALUES ('連江縣', 11400, '2024-04-11 04:45:53.008517')\n",
            "[('新北市', '1226320', '2024-04-11 04:45:52.777168'), ('臺中市', '1046010', '2024-04-11 04:45:52.791333'), ('高雄市', '853920', '2024-04-11 04:45:52.803483'), ('臺南市', '746810', '2024-04-11 04:45:52.815311'), ('臺北市', '667910', '2024-04-11 04:45:52.827394'), ('桃園市', '622420', '2024-04-11 04:45:52.840373'), ('彰化縣', '442070', '2024-04-11 04:45:52.851407'), ('雲林縣', '368290', '2024-04-11 04:45:52.863600'), ('屏東縣', '354070', '2024-04-11 04:45:52.874265'), ('嘉義縣', '225550', '2024-04-11 04:45:52.885011'), ('苗栗縣', '217590', '2024-04-11 04:45:52.895671'), ('嘉義市', '205660', '2024-04-11 04:45:52.905446'), ('宜蘭縣', '200570', '2024-04-11 04:45:52.915147'), ('南投縣', '182870', '2024-04-11 04:45:52.925427'), ('基隆市', '164480', '2024-04-11 04:45:52.936453'), ('花蓮縣', '115170', '2024-04-11 04:45:52.945972'), ('新竹縣', '109800', '2024-04-11 04:45:52.955206'), ('新竹市', '89210', '2024-04-11 04:45:52.964392'), ('臺東縣', '54320', '2024-04-11 04:45:52.974401'), ('金門縣', '30490', '2024-04-11 04:45:52.985357'), ('澎湖縣', '29110', '2024-04-11 04:45:52.996222'), ('連江縣', '11400', '2024-04-11 04:45:53.008517')]\n"
          ]
        }
      ]
    }
  ]
}