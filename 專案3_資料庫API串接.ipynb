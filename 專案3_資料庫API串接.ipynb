{
  "nbformat": 4,
  "nbformat_minor": 0,
  "metadata": {
    "colab": {
      "provenance": [],
      "authorship_tag": "ABX9TyMKKHBzo1gduxUj/n95Q7kU",
      "include_colab_link": true
    },
    "kernelspec": {
      "name": "python3",
      "display_name": "Python 3"
    },
    "language_info": {
      "name": "python"
    }
  },
  "cells": [
    {
      "cell_type": "markdown",
      "metadata": {
        "id": "view-in-github",
        "colab_type": "text"
      },
      "source": [
        "<a href=\"https://colab.research.google.com/github/tsuchidaken/colab/blob/main/%E5%B0%88%E6%A1%883_%E8%B3%87%E6%96%99%E5%BA%ABAPI%E4%B8%B2%E6%8E%A5.ipynb\" target=\"_parent\"><img src=\"https://colab.research.google.com/assets/colab-badge.svg\" alt=\"Open In Colab\"/></a>"
      ]
    },
    {
      "cell_type": "markdown",
      "source": [
        "# 各地區的藥局數量"
      ],
      "metadata": {
        "id": "rQL5XmDLfEmr"
      }
    },
    {
      "cell_type": "markdown",
      "source": [
        "* 將昨天計算的「各地區的藥局數量」存入資料庫的 `pharmacies` 表格，欄位包含「地區」、「數量」、「新增時間」，在同一個 Repo、Colab 編輯完成後再 Commit 紀錄成一個版本："
      ],
      "metadata": {
        "id": "xFQ15YSX67kL"
      }
    },
    {
      "cell_type": "code",
      "source": [
        "import sqlite3\n",
        "import datetime\n",
        "\n",
        "import requests\n",
        "import json\n",
        "\n",
        "conn = sqlite3.connect('example.db')\n",
        "c = conn.cursor()\n",
        "\n",
        "# 新增且清空資料表\n",
        "c.execute('''CREATE TABLE IF NOT EXISTS pharmacies\n",
        "             (city text, counts text, createdAt datetime)''')\n",
        "c.execute('''DELETE FROM pharmacies''')\n",
        "conn.commit()"
      ],
      "metadata": {
        "id": "JE64XkoBOMrF"
      },
      "execution_count": 19,
      "outputs": []
    },
    {
      "cell_type": "code",
      "execution_count": 20,
      "metadata": {
        "colab": {
          "base_uri": "https://localhost:8080/"
        },
        "id": "YM5QCtmd6WxL",
        "outputId": "b17f951b-1ed1-454d-e3bc-57f4f15e5bb4"
      },
      "outputs": [
        {
          "output_type": "stream",
          "name": "stdout",
          "text": [
            "INSERT INTO pharmacies VALUES ('臺北市', 340, '2024-04-11 05:02:32.776093')\n",
            "INSERT INTO pharmacies VALUES ('高雄市', 424, '2024-04-11 05:02:32.787859')\n",
            "INSERT INTO pharmacies VALUES ('臺中市', 436, '2024-04-11 05:02:32.798823')\n",
            "INSERT INTO pharmacies VALUES ('臺南市', 280, '2024-04-11 05:02:32.809044')\n",
            "INSERT INTO pharmacies VALUES ('基隆市', 57, '2024-04-11 05:02:32.819042')\n",
            "INSERT INTO pharmacies VALUES ('新竹市', 39, '2024-04-11 05:02:32.828520')\n",
            "INSERT INTO pharmacies VALUES ('嘉義市', 67, '2024-04-11 05:02:32.838441')\n",
            "INSERT INTO pharmacies VALUES ('新北市', 507, '2024-04-11 05:02:32.847880')\n",
            "INSERT INTO pharmacies VALUES ('桃園市', 271, '2024-04-11 05:02:32.857660')\n",
            "INSERT INTO pharmacies VALUES ('新竹縣', 48, '2024-04-11 05:02:32.868285')\n",
            "INSERT INTO pharmacies VALUES ('宜蘭縣', 76, '2024-04-11 05:02:32.878669')\n",
            "INSERT INTO pharmacies VALUES ('苗栗縣', 57, '2024-04-11 05:02:32.889510')\n",
            "INSERT INTO pharmacies VALUES ('彰化縣', 181, '2024-04-11 05:02:32.900029')\n",
            "INSERT INTO pharmacies VALUES ('南投縣', 67, '2024-04-11 05:02:32.916973')\n",
            "INSERT INTO pharmacies VALUES ('雲林縣', 131, '2024-04-11 05:02:32.926910')\n",
            "INSERT INTO pharmacies VALUES ('嘉義縣', 84, '2024-04-11 05:02:32.936817')\n",
            "INSERT INTO pharmacies VALUES ('屏東縣', 140, '2024-04-11 05:02:32.947012')\n",
            "INSERT INTO pharmacies VALUES ('澎湖縣', 11, '2024-04-11 05:02:32.957088')\n",
            "INSERT INTO pharmacies VALUES ('花蓮縣', 47, '2024-04-11 05:02:32.966580')\n",
            "INSERT INTO pharmacies VALUES ('臺東縣', 23, '2024-04-11 05:02:32.976472')\n",
            "INSERT INTO pharmacies VALUES ('金門縣', 6, '2024-04-11 05:02:32.986690')\n",
            "INSERT INTO pharmacies VALUES ('連江縣', 1, '2024-04-11 05:02:32.997017')\n",
            "[('臺北市', '340', '2024-04-11 05:02:32.776093'), ('高雄市', '424', '2024-04-11 05:02:32.787859'), ('臺中市', '436', '2024-04-11 05:02:32.798823'), ('臺南市', '280', '2024-04-11 05:02:32.809044'), ('基隆市', '57', '2024-04-11 05:02:32.819042'), ('新竹市', '39', '2024-04-11 05:02:32.828520'), ('嘉義市', '67', '2024-04-11 05:02:32.838441'), ('新北市', '507', '2024-04-11 05:02:32.847880'), ('桃園市', '271', '2024-04-11 05:02:32.857660'), ('新竹縣', '48', '2024-04-11 05:02:32.868285'), ('宜蘭縣', '76', '2024-04-11 05:02:32.878669'), ('苗栗縣', '57', '2024-04-11 05:02:32.889510'), ('彰化縣', '181', '2024-04-11 05:02:32.900029'), ('南投縣', '67', '2024-04-11 05:02:32.916973'), ('雲林縣', '131', '2024-04-11 05:02:32.926910'), ('嘉義縣', '84', '2024-04-11 05:02:32.936817'), ('屏東縣', '140', '2024-04-11 05:02:32.947012'), ('澎湖縣', '11', '2024-04-11 05:02:32.957088'), ('花蓮縣', '47', '2024-04-11 05:02:32.966580'), ('臺東縣', '23', '2024-04-11 05:02:32.976472'), ('金門縣', '6', '2024-04-11 05:02:32.986690'), ('連江縣', '1', '2024-04-11 05:02:32.997017')]\n"
          ]
        }
      ],
      "source": [
        "# 新增資料(蒐集資料)\n",
        "# 抓取API資料下來\n",
        "# 利用 requests 對 API 來源發送一個請求\n",
        "url = 'https://raw.githubusercontent.com/kiang/pharmacies/master/json/points.json'\n",
        "response = requests.get(url)\n",
        "# 將請求回應的內容存成一個字串格式\n",
        "d = response.text\n",
        "# 將長得像 json 格式的字串解析成字典或列表\n",
        "data = json.loads(d)\n",
        "# 各縣市藥局數量\n",
        "med_count = {}\n",
        "\n",
        "for d in data['features']:\n",
        "    conunty = d['properties']['address'][:3] #不能使用county欄位，因為資料不整齊有空白資料\n",
        "    if conunty not in med_count:\n",
        "        med_count[conunty] = 0\n",
        "\n",
        "    med_count[conunty] += 1\n",
        "\n",
        "for med in med_count.items():\n",
        "    city = med[0]\n",
        "    counts = med[1]\n",
        "    t = datetime.datetime.now()\n",
        "    print(f\"INSERT INTO pharmacies VALUES ('{city}', {counts}, '{t}')\")\n",
        "    c.execute(f\"INSERT INTO pharmacies VALUES ('{city}', {counts}, '{t}')\")\n",
        "    conn.commit()\n",
        "\n",
        "# 查詢資料\n",
        "c.execute(\"SELECT * FROM pharmacies\")\n",
        "print(c.fetchall())\n",
        "\n",
        "conn.commit()\n",
        "conn.close()"
      ]
    },
    {
      "cell_type": "markdown",
      "source": [
        "# 各地區的剩餘口罩"
      ],
      "metadata": {
        "id": "HXABfAc3e0gd"
      }
    },
    {
      "cell_type": "markdown",
      "source": [
        "* 將昨天計算的「各地區的剩餘口罩」存入資料庫的 `masks` 表格，欄位包含「地區」、「剩餘口罩數量」、「新增時間」，在同一個 Repo、Colab 編輯完成後再 Commit 紀錄成一個版本："
      ],
      "metadata": {
        "id": "BLGwROpbOtew"
      }
    },
    {
      "cell_type": "code",
      "source": [
        "import sqlite3\n",
        "import datetime\n",
        "\n",
        "import requests\n",
        "import json\n",
        "\n",
        "conn = sqlite3.connect('example.db')\n",
        "c = conn.cursor()\n",
        "\n",
        "# 新增且清空資料表\n",
        "c.execute('''CREATE TABLE IF NOT EXISTS masks\n",
        "             (city text, counts text, createdAt datetime)''')\n",
        "c.execute('''DELETE FROM masks''')\n",
        "conn.commit()"
      ],
      "metadata": {
        "id": "_w4jg-IhO2Cx"
      },
      "execution_count": 21,
      "outputs": []
    },
    {
      "cell_type": "code",
      "source": [
        "# 新增資料\n",
        "mask_count = {}\n",
        "\n",
        "# 填入欄位名稱\n",
        "for d in data['features']:\n",
        "    conunty = d['properties']['address'][:3] #  不能使用county欄位，因為資料不整齊有空白資料\n",
        "    mask_adult = d['properties']['mask_adult']  # 大人口罩\n",
        "    mask_child = d['properties']['mask_child']  # 小孩口罩\n",
        "    mask_all =  mask_adult + mask_child # 口罩總量\n",
        "    if conunty not in mask_count:\n",
        "        mask_count[conunty] = 0\n",
        "\n",
        "    mask_count[conunty] = mask_count[conunty] + mask_all\n",
        "\n",
        "# 將結果從大到小排列\n",
        "mask_count = dict(sorted(mask_count.items(), key=lambda item: item[1], reverse=True))\n",
        "\n",
        "for mask in mask_count.items():\n",
        "    city = mask[0]\n",
        "    counts = mask[1]\n",
        "    t = datetime.datetime.now()\n",
        "    print(f\"INSERT INTO masks VALUES ('{city}', {counts}, '{t}')\")\n",
        "    c.execute(f\"INSERT INTO masks VALUES ('{city}', {counts}, '{t}')\")\n",
        "    conn.commit()\n",
        "\n",
        "# 查詢資料\n",
        "c.execute(\"SELECT * FROM masks\")\n",
        "print(c.fetchall())\n",
        "\n",
        "conn.commit()\n",
        "conn.close()"
      ],
      "metadata": {
        "colab": {
          "base_uri": "https://localhost:8080/"
        },
        "id": "mTrw4bwQPEuM",
        "outputId": "b694a3a4-f4ca-4bbb-9d23-35ec1e7075d0"
      },
      "execution_count": 22,
      "outputs": [
        {
          "output_type": "stream",
          "name": "stdout",
          "text": [
            "INSERT INTO masks VALUES ('新北市', 1226320, '2024-04-11 05:02:39.894774')\n",
            "INSERT INTO masks VALUES ('臺中市', 1046010, '2024-04-11 05:02:39.905912')\n",
            "INSERT INTO masks VALUES ('高雄市', 853920, '2024-04-11 05:02:39.915485')\n",
            "INSERT INTO masks VALUES ('臺南市', 746810, '2024-04-11 05:02:39.927743')\n",
            "INSERT INTO masks VALUES ('臺北市', 667910, '2024-04-11 05:02:39.939118')\n",
            "INSERT INTO masks VALUES ('桃園市', 622420, '2024-04-11 05:02:39.948634')\n",
            "INSERT INTO masks VALUES ('彰化縣', 442070, '2024-04-11 05:02:39.959206')\n",
            "INSERT INTO masks VALUES ('雲林縣', 368290, '2024-04-11 05:02:39.968716')\n",
            "INSERT INTO masks VALUES ('屏東縣', 354070, '2024-04-11 05:02:39.978388')\n",
            "INSERT INTO masks VALUES ('嘉義縣', 225550, '2024-04-11 05:02:39.987422')\n",
            "INSERT INTO masks VALUES ('苗栗縣', 217590, '2024-04-11 05:02:39.997067')\n",
            "INSERT INTO masks VALUES ('嘉義市', 205660, '2024-04-11 05:02:40.006264')\n",
            "INSERT INTO masks VALUES ('宜蘭縣', 200570, '2024-04-11 05:02:40.015504')\n",
            "INSERT INTO masks VALUES ('南投縣', 182870, '2024-04-11 05:02:40.025165')\n",
            "INSERT INTO masks VALUES ('基隆市', 164480, '2024-04-11 05:02:40.034107')\n",
            "INSERT INTO masks VALUES ('花蓮縣', 115170, '2024-04-11 05:02:40.044126')\n",
            "INSERT INTO masks VALUES ('新竹縣', 109800, '2024-04-11 05:02:40.054564')\n",
            "INSERT INTO masks VALUES ('新竹市', 89210, '2024-04-11 05:02:40.063806')\n",
            "INSERT INTO masks VALUES ('臺東縣', 54320, '2024-04-11 05:02:40.072589')\n",
            "INSERT INTO masks VALUES ('金門縣', 30490, '2024-04-11 05:02:40.083385')\n",
            "INSERT INTO masks VALUES ('澎湖縣', 29110, '2024-04-11 05:02:40.093294')\n",
            "INSERT INTO masks VALUES ('連江縣', 11400, '2024-04-11 05:02:40.103572')\n",
            "[('新北市', '1226320', '2024-04-11 05:02:39.894774'), ('臺中市', '1046010', '2024-04-11 05:02:39.905912'), ('高雄市', '853920', '2024-04-11 05:02:39.915485'), ('臺南市', '746810', '2024-04-11 05:02:39.927743'), ('臺北市', '667910', '2024-04-11 05:02:39.939118'), ('桃園市', '622420', '2024-04-11 05:02:39.948634'), ('彰化縣', '442070', '2024-04-11 05:02:39.959206'), ('雲林縣', '368290', '2024-04-11 05:02:39.968716'), ('屏東縣', '354070', '2024-04-11 05:02:39.978388'), ('嘉義縣', '225550', '2024-04-11 05:02:39.987422'), ('苗栗縣', '217590', '2024-04-11 05:02:39.997067'), ('嘉義市', '205660', '2024-04-11 05:02:40.006264'), ('宜蘭縣', '200570', '2024-04-11 05:02:40.015504'), ('南投縣', '182870', '2024-04-11 05:02:40.025165'), ('基隆市', '164480', '2024-04-11 05:02:40.034107'), ('花蓮縣', '115170', '2024-04-11 05:02:40.044126'), ('新竹縣', '109800', '2024-04-11 05:02:40.054564'), ('新竹市', '89210', '2024-04-11 05:02:40.063806'), ('臺東縣', '54320', '2024-04-11 05:02:40.072589'), ('金門縣', '30490', '2024-04-11 05:02:40.083385'), ('澎湖縣', '29110', '2024-04-11 05:02:40.093294'), ('連江縣', '11400', '2024-04-11 05:02:40.103572')]\n"
          ]
        }
      ]
    }
  ]
}