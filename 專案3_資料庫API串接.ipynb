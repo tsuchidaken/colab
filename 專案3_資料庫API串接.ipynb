{
  "nbformat": 4,
  "nbformat_minor": 0,
  "metadata": {
    "colab": {
      "provenance": [],
      "authorship_tag": "ABX9TyOrXj813jL1oZAQJrEPRyxi",
      "include_colab_link": true
    },
    "kernelspec": {
      "name": "python3",
      "display_name": "Python 3"
    },
    "language_info": {
      "name": "python"
    }
  },
  "cells": [
    {
      "cell_type": "markdown",
      "metadata": {
        "id": "view-in-github",
        "colab_type": "text"
      },
      "source": [
        "<a href=\"https://colab.research.google.com/github/tsuchidaken/colab/blob/main/%E5%B0%88%E6%A1%883_%E8%B3%87%E6%96%99%E5%BA%ABAPI%E4%B8%B2%E6%8E%A5.ipynb\" target=\"_parent\"><img src=\"https://colab.research.google.com/assets/colab-badge.svg\" alt=\"Open In Colab\"/></a>"
      ]
    },
    {
      "cell_type": "markdown",
      "source": [
        "* 將昨天計算的「各地區的藥局數量」存入資料庫的 `pharmacies` 表格，欄位包含「地區」、「數量」、「新增時間」，在同一個 Repo、Colab 編輯完成後再 Commit 紀錄成一個版本："
      ],
      "metadata": {
        "id": "xFQ15YSX67kL"
      }
    },
    {
      "cell_type": "code",
      "source": [
        "import sqlite3\n",
        "import datetime\n",
        "\n",
        "import requests\n",
        "import json\n",
        "\n",
        "conn = sqlite3.connect('example.db')\n",
        "c = conn.cursor()\n",
        "\n",
        "# 新增且清空資料表\n",
        "c.execute('''CREATE TABLE IF NOT EXISTS pharmacies\n",
        "             (city text, counts text, createdAt datetime)''')\n",
        "c.execute('''DELETE FROM pharmacies''')\n",
        "conn.commit()"
      ],
      "metadata": {
        "id": "JE64XkoBOMrF"
      },
      "execution_count": 8,
      "outputs": []
    },
    {
      "cell_type": "code",
      "execution_count": 9,
      "metadata": {
        "colab": {
          "base_uri": "https://localhost:8080/"
        },
        "id": "YM5QCtmd6WxL",
        "outputId": "ccdcda60-27bf-48f4-aad1-f4f427ec51e8"
      },
      "outputs": [
        {
          "output_type": "stream",
          "name": "stdout",
          "text": [
            "INSERT INTO stocks VALUES ('臺北市', 340, '2024-04-11 03:35:24.823780')\n",
            "INSERT INTO stocks VALUES ('高雄市', 424, '2024-04-11 03:35:24.834743')\n",
            "INSERT INTO stocks VALUES ('臺中市', 436, '2024-04-11 03:35:24.844545')\n",
            "INSERT INTO stocks VALUES ('臺南市', 280, '2024-04-11 03:35:24.854783')\n",
            "INSERT INTO stocks VALUES ('基隆市', 57, '2024-04-11 03:35:24.863911')\n",
            "INSERT INTO stocks VALUES ('新竹市', 39, '2024-04-11 03:35:24.872992')\n",
            "INSERT INTO stocks VALUES ('嘉義市', 67, '2024-04-11 03:35:24.882532')\n",
            "INSERT INTO stocks VALUES ('新北市', 507, '2024-04-11 03:35:24.891572')\n",
            "INSERT INTO stocks VALUES ('桃園市', 271, '2024-04-11 03:35:24.899985')\n",
            "INSERT INTO stocks VALUES ('新竹縣', 48, '2024-04-11 03:35:24.908761')\n",
            "INSERT INTO stocks VALUES ('宜蘭縣', 76, '2024-04-11 03:35:24.917922')\n",
            "INSERT INTO stocks VALUES ('苗栗縣', 57, '2024-04-11 03:35:24.926548')\n",
            "INSERT INTO stocks VALUES ('彰化縣', 181, '2024-04-11 03:35:24.937671')\n",
            "INSERT INTO stocks VALUES ('南投縣', 67, '2024-04-11 03:35:24.949403')\n",
            "INSERT INTO stocks VALUES ('雲林縣', 131, '2024-04-11 03:35:24.958019')\n",
            "INSERT INTO stocks VALUES ('嘉義縣', 84, '2024-04-11 03:35:24.967295')\n",
            "INSERT INTO stocks VALUES ('屏東縣', 140, '2024-04-11 03:35:24.976698')\n",
            "INSERT INTO stocks VALUES ('澎湖縣', 11, '2024-04-11 03:35:24.986013')\n",
            "INSERT INTO stocks VALUES ('花蓮縣', 47, '2024-04-11 03:35:24.995309')\n",
            "INSERT INTO stocks VALUES ('臺東縣', 23, '2024-04-11 03:35:25.004805')\n",
            "INSERT INTO stocks VALUES ('金門縣', 6, '2024-04-11 03:35:25.014447')\n",
            "INSERT INTO stocks VALUES ('連江縣', 1, '2024-04-11 03:35:25.023515')\n",
            "[('臺北市', '340', '2024-04-11 03:35:24.823780'), ('高雄市', '424', '2024-04-11 03:35:24.834743'), ('臺中市', '436', '2024-04-11 03:35:24.844545'), ('臺南市', '280', '2024-04-11 03:35:24.854783'), ('基隆市', '57', '2024-04-11 03:35:24.863911'), ('新竹市', '39', '2024-04-11 03:35:24.872992'), ('嘉義市', '67', '2024-04-11 03:35:24.882532'), ('新北市', '507', '2024-04-11 03:35:24.891572'), ('桃園市', '271', '2024-04-11 03:35:24.899985'), ('新竹縣', '48', '2024-04-11 03:35:24.908761'), ('宜蘭縣', '76', '2024-04-11 03:35:24.917922'), ('苗栗縣', '57', '2024-04-11 03:35:24.926548'), ('彰化縣', '181', '2024-04-11 03:35:24.937671'), ('南投縣', '67', '2024-04-11 03:35:24.949403'), ('雲林縣', '131', '2024-04-11 03:35:24.958019'), ('嘉義縣', '84', '2024-04-11 03:35:24.967295'), ('屏東縣', '140', '2024-04-11 03:35:24.976698'), ('澎湖縣', '11', '2024-04-11 03:35:24.986013'), ('花蓮縣', '47', '2024-04-11 03:35:24.995309'), ('臺東縣', '23', '2024-04-11 03:35:25.004805'), ('金門縣', '6', '2024-04-11 03:35:25.014447'), ('連江縣', '1', '2024-04-11 03:35:25.023515')]\n"
          ]
        }
      ],
      "source": [
        "# 新增資料(蒐集資料)\n",
        "# 抓取API資料下來\n",
        "# 利用 requests 對 API 來源發送一個請求\n",
        "url = 'https://raw.githubusercontent.com/kiang/pharmacies/master/json/points.json'\n",
        "response = requests.get(url)\n",
        "# 將請求回應的內容存成一個字串格式\n",
        "d = response.text\n",
        "# 將長得像 json 格式的字串解析成字典或列表\n",
        "data = json.loads(d)\n",
        "# 各縣市藥局數量\n",
        "med_count = {}\n",
        "\n",
        "for d in data['features']:\n",
        "    conunty = d['properties']['address'][:3] #不能使用county欄位，因為資料不整齊有空白資料\n",
        "    if conunty not in med_count:\n",
        "        med_count[conunty] = 0\n",
        "\n",
        "    med_count[conunty] += 1\n",
        "\n",
        "for med in med_count.items():\n",
        "    city = med[0]\n",
        "    counts = med[1]\n",
        "    t = datetime.datetime.now()\n",
        "    print(f\"INSERT INTO stocks VALUES ('{city}', {counts}, '{t}')\")\n",
        "    c.execute(f\"INSERT INTO pharmacies VALUES ('{city}', {counts}, '{t}')\")\n",
        "    conn.commit()\n",
        "\n",
        "# 查詢資料\n",
        "c.execute(\"SELECT * FROM pharmacies\")\n",
        "print(c.fetchall())\n",
        "\n",
        "conn.commit()\n",
        "conn.close()"
      ]
    },
    {
      "cell_type": "markdown",
      "source": [
        "* 將昨天計算的「各地區的剩餘口罩」存入資料庫的 `masks` 表格，欄位包含「地區」、「剩餘口罩數量」、「新增時間」，在同一個 Repo、Colab 編輯完成後再 Commit 紀錄成一個版本："
      ],
      "metadata": {
        "id": "BLGwROpbOtew"
      }
    },
    {
      "cell_type": "code",
      "source": [],
      "metadata": {
        "id": "_w4jg-IhO2Cx"
      },
      "execution_count": null,
      "outputs": []
    }
  ]
}